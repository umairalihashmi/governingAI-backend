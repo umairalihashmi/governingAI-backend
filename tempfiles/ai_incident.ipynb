{
 "cells": [
  {
   "cell_type": "code",
   "execution_count": 2,
   "metadata": {},
   "outputs": [],
   "source": [
    "import pandas as pd"
   ]
  },
  {
   "cell_type": "code",
   "execution_count": 3,
   "metadata": {},
   "outputs": [
    {
     "name": "stdout",
     "output_type": "stream",
     "text": [
      "{'Schufa Holding AG', 'Twitter', 'OpenAI, Stephan de Vries', 'unnamed Korean companies', 'Facemega', 'Proctorio', 'Centrelink', 'Axon Enterprise', 'UK Visas and Immigration, UK Home Office', 'Cass', 'Google, Qure.ai, Aidoc, DarwinAI', 'Grab', 'Coffee Meets Bagel', 'Genderify', 'Weibo', 'University of Washington, FakeApp', 'Michal Kosinski, Yilun Wang', 'IBM', 'Deliveroo', 'Alberto, Telegram channels', 'Red Ventures, Bankrate', 'YouTube, Twitch, TikTok, Instagram', 'Intensive Partnerships for Effective Teaching', 'LedeAI', 'Stability AI, Runway, LAION, EleutherAI, CompVis LMU', 'Knightscope', 'Sarawak Information Systems', 'Optum', 'Ningbo traffic police', 'Volkswagen', 'TikTok', 'General Electric', 'Facebook, Instagram, Twitter', 'Microsoft Research, Google, Boston University', 'Chinese government', 'Target', 'Meta', 'Snapchat, OpenAI', 'Facebook, Instagram', 'Irish Department of Education and Skills', 'Zillow Offers', 'Janelle Shane', 'UiPath', 'TuSimple', 'Raytheon, Lockheed Martin', 'Microsoft, Google, Amazon', 'MIT Media Lab', 'Allen Institute for AI', 'none', 'L3Harris Technologies', 'unknown', 'Uber, Azure Cognitive Services', 'YouTube', 'accessiBe, Accessus.ai, Allyable, UserWay, MaxAccess.io', 'Instagram', 'US Citizenship and Immigration Services', 'OpenAI, Nabla', 'NaviHealth', 'SN Technologies', 'Evolv Technology', 'Uber Eats', 'Microsoft, OpenAI', 'OpenAI, Edward Tian', 'Microsoft, IBM, Google, Apple, Amazon', 'Aldebaran, SoftBank Robotics', 'PimEyes', 'Persistent Systems', 'Megvii, Microsoft', 'Google', 'Runway, LAION, EleutherAI, CompVis LMU, Stability AI', 'McD Tech Labs, Apprente', 'Ping An', 'NtechLab', 'Israeli Tax Authority', 'Amazon India', 'PicSo AI', 'WeChat', 'iRobot', 'Midjourney', 'Virginia Department of Criminal Justice Services', 'State Farm', 'Wikipedia', 'Vedal', 'OpenAI, Microsoft', 'National Weather Service', 'Spanish Secretary of State for Security, Spanish Ministry of Interior', 'Hive Box', 'ElevenLabs', 'New York city Dept. of Education', 'Castricum municipality', 'STM', 'Tesla', 'Stability AI, OpenAI', 'Facebook', 'Chicago Police Department', 'Vigilant Solutions', 'Nuance Communications', 'Icahn School of Medicine researchers, unknown', 'Boston Dynamics', 'ByteDance', 'Starship Technologies', 'Toronto Public Health', 'Scatter Lab', 'Heriot-Watt University', 'Appriss', 'US Customs and Border Protection', 'UK Home Office', \"Wendy's, McDonald's, Hardee's\", 'XPeng', 'Krungthai Bank', 'Northpointe', 'Kairos', 'DoNotPay', 'Meta Platforms, Facebook', 'Yuen Ler Chow', 'National Resident Matching Program', 'InterRAI', 'Facebook, Twitter', 'Duke researchers', 'Huawei', 'Stability AI, Runway, Lensa AI, LAION, EleutherAI, CompVis LMU', 'Pony.ai', 'Naver', 'Boris Dayma, Suraj Patil, Pedro Cuenca, Khalid Saifullah, Tanishq Abraham, Phúc Lê Khắc, Luke Melas, Ritobrata Ghosh', 'Ever AI', 'Tumblr', 'Opera, OpenAI', 'Chronic Kidney Disease Epidemiology Collaboration', 'University of North Carolina Wilmington, Karl Ricanek, Gayathri Mahalingam', 'Stability AI, Google, LAION', 'AnyVision', 'ETS', 'Synthesia', 'Natural Cycles', 'Sangfor Technologies', 'Nissan', 'Internal Revenue Service', 'Oracle', 'Waze', 'Uber', 'Serve Robotics', 'Waymo', 'Blue Shield of California', 'RealPage, Jeffrey Roper', 'my_handy_design', 'YouTube, Twitter, Facebook', 'Fast Enterprises, CSG Government Solutions', 'Facebook, LinkedIn, YouTube, Twitter, Netflix', 'Kronos', 'Parabon Nanolabs', 'Sound Intelligence', 'FireEye', 'Intuitive Surgical', 'Neusoft', 'Hikvision', \"Microsoft's AI Research Division\", 'UK Office of Qualifications and Examinations Regulation', 'Honda', 'Meta, Facebook', 'Volvo', 'ElevenLabs, Lloyds Bank', 'Gmail, Outlook, Yahoo, GMX, LaPoste', 'FaceApp', 'ProctorU', 'SecurOS', 'Sanas', 'Meta AI, Meta, Facebook', 'Google Docs', 'Cruise', 'Netradyne', 'The World Bank, UNICEF, World Food Programme', 'IBM Watson Health', 'EasyMile', 'Morphotrak, Clearview AI', 'Niantic Labs', 'Chai', 'Yandex', 'D.G. Consultores', 'Youth Laboratories', 'Apple', 'EAB', 'Pakistan National Database and Registration Authority', 'Frontier Development', 'Huawei, Megvii, SenseTime, Alibaba, Baibu', 'Uber, Amazon', 'Amazon', 'Workday', 'Frauke Zeller, David Harris', 'Sudowrite, OpenAI', 'Respondus Monitor, ProctorU, ProctorTrack, Proctorio, ProctorExam, Examity', 'CCC Information Services, Tractable', 'SAS Institute', 'SIT Acronis Autonomous', 'Coupang', 'Microsoft, Turing Robot', 'Turnitin', 'Equivant', 'ExamSoft', 'Boeing', 'PredPol', 'Murat Ayfer, OpenAI', 'Airbnb, Trooly', 'OpenAI, Google', 'Speedcam Anywhere', 'Google Home', 'Oregon Department of Human Services', 'Navya, Keolis North America', 'Glovo', 'Amazon Fresh', 'Replika', 'Ocado', 'NEC', 'MyInterview, Curious Thing', 'Evolver', 'Honorlock', 'OpenAI, Latitude', 'US Department of Justice', 'The DAO', 'Stanford Medical Center', 'Yannic Kilcher', 'GitHub', 'International Baccalaurette', 'Google Maps', 'KFC', 'University of Texas at Austin researchers', 'Rhema Vaithianathan, Emily Putnam-Hornstein, Centre for Social Data Analytics', 'Epic Systems', 'ShotSpotter', 'Clearview AI', '15.ai', 'Tinder', 'HireVue', 'Individual Kaggle Competitors', \"Geisel School of Medicine's Technology staff, Canvas\", 'Everseen', 'Facebook, Meta', 'DataWorks Plus', 'OpenAI', 'Microsoft'}\n"
     ]
    }
   ],
   "source": [
    "df = pd.read_csv(\"ai_incident_db.csv\")\n",
    "print(set(df[\"Alleged Developer of AI System\"]))"
   ]
  },
  {
   "cell_type": "code",
   "execution_count": 22,
   "metadata": {},
   "outputs": [
    {
     "data": {
      "text/plain": [
       "[['Common Biases of Vector Embeddings',\n",
       "  'Researchers from Boston University and Microsoft Research, New England demonstrated gender bias in the most common techniques used to embed words for natural language processing (NLP).',\n",
       "  'Women, Minority Groups'],\n",
       " ['TayBot',\n",
       "  \"Microsoft's Tay, an artificially intelligent chatbot, was released on March 23, 2016 and removed within 24 hours due to multiple racist, sexist, and anit-semitic tweets generated by the bot.\",\n",
       "  'Twitter Users'],\n",
       " ['Chinese Chatbots Question Communist Party',\n",
       "  'Chatbots on Chinese messaging service expressed anti-China sentiments, causing the messaging service to remove and reprogram the chatbots.',\n",
       "  'Chinese Communist Party, Tencent Holdings, Microsoft, Turing Robot'],\n",
       " ['Personal voice assistants struggle with black voices, new study shows',\n",
       "  'A study found that voice recognition tools from Apple, Amazon, Google, IBM, and Microsoft disproportionately made errors when transcribing black speakers.',\n",
       "  'Black people'],\n",
       " ['Microsoft’s Algorithm Allegedly Selected Photo of the Wrong Mixed-Race Person Featured in a News Story',\n",
       "  'A news story published on MSN.com featured a photo of the wrong mixed-race person that was allegedly selected by an algorithm, following Microsoft’s layoff and replacement of journalists and editorial workers at its organizations with AI systems.',\n",
       "  'Jade Thirlwall, Leigh-Anne Pinnock'],\n",
       " ['Argentinian City Government Deployed Teenage-Pregnancy Predictive Algorithm Using Invasive Demographic Data',\n",
       "  'In 2018, during the abortion-decriminalization debate in Argentina, the Salta city government deployed a teenage-pregnancy predictive algorithm built by Microsoft that allegedly lacked a defined purpose, explicitly considered sensitive information such as disability and whether their home had access to hot water.',\n",
       "  'Salta teenage girls, Salta girls of minority groups'],\n",
       " ['Emotion Detection Models Showed Disparate Performance along Racial Lines',\n",
       "  \"Emotion detection tools by Face++ and Microsoft's Face API allegedly scored smiling or defaulted ambiguous facial photos for Black faces as negative emotion more often than for white faces.\",\n",
       "  'Black people'],\n",
       " ['ChatGPT-Powered Bing Reportedly Had Problems with Factual Accuracy on Some Controversial Topics',\n",
       "  \"Microsoft's ChatGPT-powered Bing search engine reportedly ran into factual accuracy problems when prompted about controversial matters, such as inventing plot of a non-existent movie or creating conspiracy theories.\",\n",
       "  'Bing users'],\n",
       " ['Automated Adult Content Detection Tools Showed Bias against Women Bodies',\n",
       "  'Automated content moderation tools to detect sexual explicitness or \"raciness\" reportedly exhibited bias against women bodies, resulting in suppression of reach despite not breaking platform policies.',\n",
       "  'LinkedIn users, Instagram users, Facebook users'],\n",
       " ['Bing Chat Response Cited ChatGPT Disinformation Example',\n",
       "  \"Reporters from TechCrunch issued a query to Microsoft Bing's ChatGPT feature, which cited an earlier example of ChatGPT disinformation discussed in a news article to substantiate the disinformation.\",\n",
       "  'OpenAI, Microsoft'],\n",
       " [\"Bing Chat's Initial Prompts Revealed by Early Testers Through Prompt Injection\",\n",
       "  \"Early testers of Bing Chat successfully used prompt injection to reveal its built-in initial instructions, which contains a list of statements governing ChatGPT's interaction with users.\",\n",
       "  'Microsoft'],\n",
       " ['Bing Chat Tentatively Hallucinated in Extended Conversations with Users',\n",
       "  'Early testers reported Bing Chat, in extended conversations with users, having tendencies to make up facts and emulate emotions through an unintended persona.',\n",
       "  'Microsoft'],\n",
       " ['Bing AI Search Tool Reportedly Declared Threats against Users',\n",
       "  'Users such as the person who revealed its built-in initial prompts reported Bing AI-powered search tool for making death threats or declaring them as threats, sometimes as an unintended persona.',\n",
       "  'Marvin von Hagen, Seth Lazar, Microsoft, OpenAI, Bing Chat users'],\n",
       " [\"Bing Chat's Outputs Featured in Demo Video Allegedly Contained False Information\",\n",
       "  \"Microsoft's demo video of Bing Chat reportedly featured false or made up information such as non-existent pet vacuums features or false figures on financial statements.\",\n",
       "  'Microsoft'],\n",
       " [\"Microsoft's Bing Failed to Fetch Movie Showtimes Results Due to Date Confusion\",\n",
       "  \"When prompted about showtimes for movies released in 2023, Microsoft's Bing AI failed to provide the search results due to its confusion about dates, and engaged in an erratic conversation with the user.\",\n",
       "  'Bing users'],\n",
       " ['Bing Chat Solved CAPTCHAs with Image Analysis Feature Despite Safeguards',\n",
       "  'Microsoft was reported by a Twitter user for deploying image analysis feature capable of solving CAPTCHAs for its GPT-based chatbot despite it being safeguarded against solving them for users.',\n",
       "  'Microsoft'],\n",
       " [\"Accidental Exposure of 38TB of Data by Microsoft's AI Research Team\",\n",
       "  \"Microsoft's AI research team accidentally exposed 38TB of sensitive data while publishing open-source training material on GitHub. The exposure included secrets, private keys, passwords, and internal Microsoft Teams messages. The team utilized Azure's Shared Access Signature (SAS) tokens for sharing, which were misconfigured, leading to the wide exposure of data.\",\n",
       "  'Microsoft, Microsoft employees, Third parties relying on the confidentiality of the exposed data']]"
      ]
     },
     "execution_count": 22,
     "metadata": {},
     "output_type": "execute_result"
    }
   ],
   "source": [
    "vendor_to_search = \"microsoft\"\n",
    "event_list = []\n",
    "events = df[df['Alleged Developer of AI System'].str.contains(vendor_to_search, case=False, na=False)][[\"Title\", \"Description\", \"Alleged Harmed or Nearly Harmed Parties\"]].set_index(\"Title\").to_dict()\n",
    "for key in events[\"Description\"]:\n",
    "    event_list.append([key, events[\"Description\"][key], events['Alleged Harmed or Nearly Harmed Parties'][key]])\n",
    "event_list"
   ]
  },
  {
   "cell_type": "markdown",
   "metadata": {},
   "source": []
  },
  {
   "cell_type": "code",
   "execution_count": 26,
   "metadata": {},
   "outputs": [
    {
     "data": {
      "text/html": [
       "<div>\n",
       "<style scoped>\n",
       "    .dataframe tbody tr th:only-of-type {\n",
       "        vertical-align: middle;\n",
       "    }\n",
       "\n",
       "    .dataframe tbody tr th {\n",
       "        vertical-align: top;\n",
       "    }\n",
       "\n",
       "    .dataframe thead th {\n",
       "        text-align: right;\n",
       "    }\n",
       "</style>\n",
       "<table border=\"1\" class=\"dataframe\">\n",
       "  <thead>\n",
       "    <tr style=\"text-align: right;\">\n",
       "      <th></th>\n",
       "      <th>Incident ID</th>\n",
       "      <th>Title</th>\n",
       "      <th>Description</th>\n",
       "      <th>Date</th>\n",
       "      <th>Alleged Deployer of AI System</th>\n",
       "      <th>Alleged Developer of AI System</th>\n",
       "      <th>Alleged Harmed or Nearly Harmed Parties</th>\n",
       "    </tr>\n",
       "  </thead>\n",
       "  <tbody>\n",
       "    <tr>\n",
       "      <th>106</th>\n",
       "      <td>Incident 148</td>\n",
       "      <td>Web Accessibility Vendors Allegedly Falsely Cl...</td>\n",
       "      <td>AI-powered web accessibility vendors allegedly...</td>\n",
       "      <td>2021-11-21</td>\n",
       "      <td>accessiBe, Accessus.ai, Allyable, UserWay, Max...</td>\n",
       "      <td>accessiBe, Accessus.ai, Allyable, UserWay, Max...</td>\n",
       "      <td>internet users with disabilities, web accessib...</td>\n",
       "    </tr>\n",
       "  </tbody>\n",
       "</table>\n",
       "</div>"
      ],
      "text/plain": [
       "      Incident ID                                              Title  \\\n",
       "106  Incident 148  Web Accessibility Vendors Allegedly Falsely Cl...   \n",
       "\n",
       "                                           Description        Date  \\\n",
       "106  AI-powered web accessibility vendors allegedly...  2021-11-21   \n",
       "\n",
       "                         Alleged Deployer of AI System  \\\n",
       "106  accessiBe, Accessus.ai, Allyable, UserWay, Max...   \n",
       "\n",
       "                        Alleged Developer of AI System  \\\n",
       "106  accessiBe, Accessus.ai, Allyable, UserWay, Max...   \n",
       "\n",
       "               Alleged Harmed or Nearly Harmed Parties  \n",
       "106  internet users with disabilities, web accessib...  "
      ]
     },
     "execution_count": 26,
     "metadata": {},
     "output_type": "execute_result"
    }
   ],
   "source": [
    "vendor_to_search = \"Accessus\"\n",
    "df[df['Alleged Developer of AI System'].str.contains(vendor_to_search, case=False, na=False)]"
   ]
  },
  {
   "cell_type": "code",
   "execution_count": 27,
   "metadata": {},
   "outputs": [
    {
     "data": {
      "text/html": [
       "<div>\n",
       "<style scoped>\n",
       "    .dataframe tbody tr th:only-of-type {\n",
       "        vertical-align: middle;\n",
       "    }\n",
       "\n",
       "    .dataframe tbody tr th {\n",
       "        vertical-align: top;\n",
       "    }\n",
       "\n",
       "    .dataframe thead th {\n",
       "        text-align: right;\n",
       "    }\n",
       "</style>\n",
       "<table border=\"1\" class=\"dataframe\">\n",
       "  <thead>\n",
       "    <tr style=\"text-align: right;\">\n",
       "      <th></th>\n",
       "      <th>Incident ID</th>\n",
       "      <th>Title</th>\n",
       "      <th>Description</th>\n",
       "      <th>Date</th>\n",
       "      <th>Alleged Deployer of AI System</th>\n",
       "      <th>Alleged Developer of AI System</th>\n",
       "      <th>Alleged Harmed or Nearly Harmed Parties</th>\n",
       "    </tr>\n",
       "  </thead>\n",
       "  <tbody>\n",
       "    <tr>\n",
       "      <th>126</th>\n",
       "      <td>Incident 151</td>\n",
       "      <td>California Regulator Suspended Pony.ai's Drive...</td>\n",
       "      <td>A Pony.ai vehicle operating in autonomous mode...</td>\n",
       "      <td>2021-10-28</td>\n",
       "      <td>Pony.ai</td>\n",
       "      <td>Pony.ai</td>\n",
       "      <td>San Francisco city government</td>\n",
       "    </tr>\n",
       "  </tbody>\n",
       "</table>\n",
       "</div>"
      ],
      "text/plain": [
       "      Incident ID                                              Title  \\\n",
       "126  Incident 151  California Regulator Suspended Pony.ai's Drive...   \n",
       "\n",
       "                                           Description        Date  \\\n",
       "126  A Pony.ai vehicle operating in autonomous mode...  2021-10-28   \n",
       "\n",
       "    Alleged Deployer of AI System Alleged Developer of AI System  \\\n",
       "126                       Pony.ai                        Pony.ai   \n",
       "\n",
       "    Alleged Harmed or Nearly Harmed Parties  \n",
       "126           San Francisco city government  "
      ]
     },
     "execution_count": 27,
     "metadata": {},
     "output_type": "execute_result"
    }
   ],
   "source": [
    "vendor_to_search = \"Pony.ai\"\n",
    "df[df['Alleged Developer of AI System'].str.contains(vendor_to_search, case=False, na=False)]"
   ]
  },
  {
   "cell_type": "code",
   "execution_count": 4,
   "metadata": {},
   "outputs": [
    {
     "data": {
      "text/html": [
       "<div>\n",
       "<style scoped>\n",
       "    .dataframe tbody tr th:only-of-type {\n",
       "        vertical-align: middle;\n",
       "    }\n",
       "\n",
       "    .dataframe tbody tr th {\n",
       "        vertical-align: top;\n",
       "    }\n",
       "\n",
       "    .dataframe thead th {\n",
       "        text-align: right;\n",
       "    }\n",
       "</style>\n",
       "<table border=\"1\" class=\"dataframe\">\n",
       "  <thead>\n",
       "    <tr style=\"text-align: right;\">\n",
       "      <th></th>\n",
       "      <th>Incident ID</th>\n",
       "      <th>Title</th>\n",
       "      <th>Description</th>\n",
       "      <th>Date</th>\n",
       "      <th>Alleged Deployer of AI System</th>\n",
       "      <th>Alleged Developer of AI System</th>\n",
       "      <th>Alleged Harmed or Nearly Harmed Parties</th>\n",
       "    </tr>\n",
       "  </thead>\n",
       "  <tbody>\n",
       "    <tr>\n",
       "      <th>397</th>\n",
       "      <td>Incident 426</td>\n",
       "      <td>XPeng P7 Crashed into Truck in Shangdong While...</td>\n",
       "      <td>An XPeng P7 was operating on Navigation Guided...</td>\n",
       "      <td>2022-09-23</td>\n",
       "      <td>XPeng</td>\n",
       "      <td>XPeng</td>\n",
       "      <td>XPeng driver</td>\n",
       "    </tr>\n",
       "  </tbody>\n",
       "</table>\n",
       "</div>"
      ],
      "text/plain": [
       "      Incident ID                                              Title  \\\n",
       "397  Incident 426  XPeng P7 Crashed into Truck in Shangdong While...   \n",
       "\n",
       "                                           Description        Date  \\\n",
       "397  An XPeng P7 was operating on Navigation Guided...  2022-09-23   \n",
       "\n",
       "    Alleged Deployer of AI System Alleged Developer of AI System  \\\n",
       "397                         XPeng                          XPeng   \n",
       "\n",
       "    Alleged Harmed or Nearly Harmed Parties  \n",
       "397                            XPeng driver  "
      ]
     },
     "execution_count": 4,
     "metadata": {},
     "output_type": "execute_result"
    }
   ],
   "source": [
    "vendor_to_search = \"Xpeng\"\n",
    "df[df['Alleged Developer of AI System'].str.contains(vendor_to_search, case=False, na=False)]"
   ]
  },
  {
   "cell_type": "code",
   "execution_count": null,
   "metadata": {},
   "outputs": [],
   "source": []
  }
 ],
 "metadata": {
  "kernelspec": {
   "display_name": "Python 3",
   "language": "python",
   "name": "python3"
  },
  "language_info": {
   "codemirror_mode": {
    "name": "ipython",
    "version": 3
   },
   "file_extension": ".py",
   "mimetype": "text/x-python",
   "name": "python",
   "nbconvert_exporter": "python",
   "pygments_lexer": "ipython3",
   "version": "3.11.1"
  }
 },
 "nbformat": 4,
 "nbformat_minor": 2
}
